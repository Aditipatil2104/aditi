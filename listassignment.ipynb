{
 "cells": [
  {
   "cell_type": "markdown",
   "id": "40e1a4a5-a3ba-4f28-bc74-58c111663471",
   "metadata": {},
   "source": [
    "## # Create 2 lists from a given list where \n",
    "# 1st list will contain all the odd numbers from the original list and\n",
    "# the 2nd one will contain all the even numbers\n",
    "L = [1,2,3,4,5,6]"
   ]
  },
  {
   "cell_type": "code",
   "execution_count": 11,
   "id": "7959728b-249d-4c85-b2e1-1a9f90abc53f",
   "metadata": {},
   "outputs": [
    {
     "name": "stdout",
     "output_type": "stream",
     "text": [
      "[1, 2, 3, 4, 5, 6]\n",
      "listEven:  [2, 4, 6]\n",
      "listOdd:   [1, 3, 5]\n"
     ]
    }
   ],
   "source": [
    "\n",
    "list1 = [1,2,3,4,5,6]\n",
    "listOdd = []\n",
    "listEven = []\n",
    "for num in list1:\n",
    "    if num % 2 == 0:\n",
    "        listEven.append(num)\n",
    "    else:\n",
    "        listOdd.append(num)\n",
    "print(list1)\n",
    "print(\"listEven: \", listEven)\n",
    "print(\"listOdd:  \", listOdd)"
   ]
  },
  {
   "cell_type": "markdown",
   "id": "0432a58a-062e-42a6-9b79-593a4eb06ba1",
   "metadata": {},
   "source": [
    "Q 2\n",
    "# How to take list as input from user"
   ]
  },
  {
   "cell_type": "code",
   "execution_count": 10,
   "id": "4bb9c7d6-43be-4837-b955-de87c13194d8",
   "metadata": {},
   "outputs": [
    {
     "name": "stdin",
     "output_type": "stream",
     "text": [
      "Enter number of elements :  6\n",
      " 3\n",
      " 4\n",
      " 5\n",
      " 6\n",
      " 7\n",
      " 8\n"
     ]
    },
    {
     "name": "stdout",
     "output_type": "stream",
     "text": [
      "[3, 4, 5, 6, 7, 8]\n"
     ]
    }
   ],
   "source": [
    "li = []\n",
    "n = int(input(\"Enter number of elements : \"))\n",
    "for i in range(0, n):\n",
    "    ele = int(input())\n",
    "    li.append(ele)  \n",
    "print(li)\n",
    "\n"
   ]
  },
  {
   "cell_type": "markdown",
   "id": "74073084-4091-4f10-a671-cd6fca74f811",
   "metadata": {},
   "source": [
    "## Write a program to merge 2 list without using the + operator\n",
    "## L1 = [1,2,3,4]\n",
    "## L2 = [5,6,7,8]"
   ]
  },
  {
   "cell_type": "code",
   "execution_count": 12,
   "id": "9e2ebe9f-9669-4e85-85ec-d25fa2473a84",
   "metadata": {},
   "outputs": [
    {
     "name": "stdout",
     "output_type": "stream",
     "text": [
      "Merged list: [1, 2, 3, 4, 5, 6, 7, 8]\n"
     ]
    }
   ],
   "source": [
    "L1 = [1, 2, 3, 4]\n",
    "L2 = [5, 6, 7, 8]\n",
    "L1.extend(L2)\n",
    "print(\"Merged list:\", L1)\n"
   ]
  },
  {
   "cell_type": "markdown",
   "id": "26c72b14-36f0-47b6-9d32-16dce359a4c7",
   "metadata": {},
   "source": [
    "Q 4\n",
    "# Write a program to replace an item with a different item if found in the list \n",
    "# L = [1,2,3,4,5,3]\n",
    "# replace 3 with 300"
   ]
  },
  {
   "cell_type": "code",
   "execution_count": 15,
   "id": "3458e12b-f26a-4b76-b563-f33f46f1b815",
   "metadata": {},
   "outputs": [
    {
     "name": "stdout",
     "output_type": "stream",
     "text": [
      "[1, 2, 300, 4, 5, 3]\n"
     ]
    }
   ],
   "source": [
    "l=[1,2,3,4,5,3]\n",
    "l[2] =300\n",
    "print(l)"
   ]
  },
  {
   "cell_type": "markdown",
   "id": "7e0ba115-a338-49f0-a518-08465e88ab83",
   "metadata": {},
   "source": [
    "## Q 5 \n",
    "# Write a program that can convert a 2D list to 1D list"
   ]
  },
  {
   "cell_type": "code",
   "execution_count": 4,
   "id": "f4f4fdec-fc11-43c0-9a3c-7ba073cf7ae2",
   "metadata": {},
   "outputs": [
    {
     "name": "stdout",
     "output_type": "stream",
     "text": [
      "oned_list: [1, 2, 3, 4, 5, 6, 7, 8, 9]\n"
     ]
    }
   ],
   "source": [
    "twod_list=[[1,2,3],[4,5,6],[7,8,9]]\n",
    "new_list=sum(twod_list,[])\n",
    "print(\"oned_list:\",new_list)"
   ]
  },
  {
   "cell_type": "markdown",
   "id": "1a507a6c-e408-4094-8f1f-282aab038b18",
   "metadata": {},
   "source": [
    "## Q 6 \n",
    "# Write a program to remove duplicate items from a list\n",
    "## L = [1,2,1,2,3,4,5,3,4]"
   ]
  },
  {
   "cell_type": "code",
   "execution_count": 1,
   "id": "3deaef88-6dd2-4a9c-97a9-657416920cf1",
   "metadata": {},
   "outputs": [
    {
     "name": "stdout",
     "output_type": "stream",
     "text": [
      "[1, 2, 3, 4, 5]\n"
     ]
    }
   ],
   "source": [
    "l=[1,2,1,2,3,4,5,3,4]\n",
    "li=[l[i]for i in range(len(l)) if l.index(l[i])==i]\n",
    "print(li)"
   ]
  },
  {
   "cell_type": "markdown",
   "id": "84792302-4df2-4eae-bb4c-44b3a986a7ff",
   "metadata": {},
   "source": [
    " Q 7 \n",
    "# Write a program to check if a list is in ascending order or not"
   ]
  },
  {
   "cell_type": "code",
   "execution_count": 5,
   "id": "c5fe2e1c-afc8-4c97-b192-e1c1c4c3fae8",
   "metadata": {},
   "outputs": [
    {
     "name": "stdout",
     "output_type": "stream",
     "text": [
      "list is sorted\n"
     ]
    }
   ],
   "source": [
    "test_list=[1,4,5,8,10]\n",
    "is_sorted=all(a<=b for a,b in zip(test_list,test_list[1:]))\n",
    "if is_sorted:\n",
    "    print(\"list is sorted\")\n",
    "else:\n",
    "    print(\"list is not sorted\")"
   ]
  },
  {
   "cell_type": "code",
   "execution_count": null,
   "id": "09a3c59a-5a32-4b1b-9fc9-1285c6ee3b33",
   "metadata": {},
   "outputs": [],
   "source": []
  }
 ],
 "metadata": {
  "kernelspec": {
   "display_name": "Python 3 (ipykernel)",
   "language": "python",
   "name": "python3"
  },
  "language_info": {
   "codemirror_mode": {
    "name": "ipython",
    "version": 3
   },
   "file_extension": ".py",
   "mimetype": "text/x-python",
   "name": "python",
   "nbconvert_exporter": "python",
   "pygments_lexer": "ipython3",
   "version": "3.12.0"
  },
  "widgets": {
   "application/vnd.jupyter.widget-state+json": {
    "state": {},
    "version_major": 2,
    "version_minor": 0
   }
  }
 },
 "nbformat": 4,
 "nbformat_minor": 5
}
